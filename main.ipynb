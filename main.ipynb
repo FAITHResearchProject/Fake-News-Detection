{
 "cells": [
  {
   "cell_type": "code",
   "execution_count": 217,
   "metadata": {},
   "outputs": [],
   "source": [
    "import pandas as pd\n",
    "import numpy as np\n",
    "import re\n",
    "import sklearn\n",
    "import tensorflow\n",
    "from sklearn.model_selection import train_test_split\n",
    "from sklearn.feature_extraction.text import TfidfVectorizer\n",
    "from sklearn.feature_extraction.text import CountVectorizer\n",
    "from sklearn.ensemble import AdaBoostClassifier\n",
    "from sklearn.linear_model import LogisticRegression\n",
    "from sklearn.ensemble import RandomForestClassifier\n",
    "from sklearn.naive_bayes import MultinomialNB\n",
    "from nltk.corpus import stopwords\n",
    "from langdetect import detect\n",
    "from sklearn.utils import shuffle\n",
    "import matplotlib.pyplot as plt\n",
    "from sklearn.metrics import plot_confusion_matrix\n",
    "from nltk.corpus import stopwords\n",
    "from nltk.stem.porter import PorterStemmer\n",
    "from sklearn.metrics import accuracy_score"
   ]
  },
  {
   "cell_type": "markdown",
   "metadata": {},
   "source": [
    "## Data Processing\n",
    "**Importing Datasets**"
   ]
  },
  {
   "cell_type": "code",
   "execution_count": 41,
   "metadata": {},
   "outputs": [],
   "source": [
    "#importing the datasets\n",
    "data1_fake = pd.read_csv('./Data_RealFake/Dataset1/Fake1.csv')\n",
    "data1_true = pd.read_csv('./Data_RealFake/Dataset1/True1.csv')\n",
    "\n",
    "dtset1_fake = pd.DataFrame(data1_fake)\n",
    "dtset1_true = pd.DataFrame(data1_true)"
   ]
  },
  {
   "cell_type": "markdown",
   "metadata": {},
   "source": [
    "Changing the labels: fake = 0 and real = 1"
   ]
  },
  {
   "cell_type": "code",
   "execution_count": 42,
   "metadata": {},
   "outputs": [
    {
     "data": {
      "text/html": [
       "<div>\n",
       "<style scoped>\n",
       "    .dataframe tbody tr th:only-of-type {\n",
       "        vertical-align: middle;\n",
       "    }\n",
       "\n",
       "    .dataframe tbody tr th {\n",
       "        vertical-align: top;\n",
       "    }\n",
       "\n",
       "    .dataframe thead th {\n",
       "        text-align: right;\n",
       "    }\n",
       "</style>\n",
       "<table border=\"1\" class=\"dataframe\">\n",
       "  <thead>\n",
       "    <tr style=\"text-align: right;\">\n",
       "      <th></th>\n",
       "      <th>title</th>\n",
       "      <th>text</th>\n",
       "      <th>subject</th>\n",
       "      <th>date</th>\n",
       "      <th>label</th>\n",
       "    </tr>\n",
       "  </thead>\n",
       "  <tbody>\n",
       "    <tr>\n",
       "      <th>0</th>\n",
       "      <td>As U.S. budget fight looms, Republicans flip t...</td>\n",
       "      <td>WASHINGTON (Reuters) - The head of a conservat...</td>\n",
       "      <td>politicsNews</td>\n",
       "      <td>December 31, 2017</td>\n",
       "      <td>1</td>\n",
       "    </tr>\n",
       "    <tr>\n",
       "      <th>1</th>\n",
       "      <td>U.S. military to accept transgender recruits o...</td>\n",
       "      <td>WASHINGTON (Reuters) - Transgender people will...</td>\n",
       "      <td>politicsNews</td>\n",
       "      <td>December 29, 2017</td>\n",
       "      <td>1</td>\n",
       "    </tr>\n",
       "    <tr>\n",
       "      <th>2</th>\n",
       "      <td>Senior U.S. Republican senator: 'Let Mr. Muell...</td>\n",
       "      <td>WASHINGTON (Reuters) - The special counsel inv...</td>\n",
       "      <td>politicsNews</td>\n",
       "      <td>December 31, 2017</td>\n",
       "      <td>1</td>\n",
       "    </tr>\n",
       "    <tr>\n",
       "      <th>3</th>\n",
       "      <td>FBI Russia probe helped by Australian diplomat...</td>\n",
       "      <td>WASHINGTON (Reuters) - Trump campaign adviser ...</td>\n",
       "      <td>politicsNews</td>\n",
       "      <td>December 30, 2017</td>\n",
       "      <td>1</td>\n",
       "    </tr>\n",
       "    <tr>\n",
       "      <th>4</th>\n",
       "      <td>Trump wants Postal Service to charge 'much mor...</td>\n",
       "      <td>SEATTLE/WASHINGTON (Reuters) - President Donal...</td>\n",
       "      <td>politicsNews</td>\n",
       "      <td>December 29, 2017</td>\n",
       "      <td>1</td>\n",
       "    </tr>\n",
       "  </tbody>\n",
       "</table>\n",
       "</div>"
      ],
      "text/plain": [
       "                                               title  \\\n",
       "0  As U.S. budget fight looms, Republicans flip t...   \n",
       "1  U.S. military to accept transgender recruits o...   \n",
       "2  Senior U.S. Republican senator: 'Let Mr. Muell...   \n",
       "3  FBI Russia probe helped by Australian diplomat...   \n",
       "4  Trump wants Postal Service to charge 'much mor...   \n",
       "\n",
       "                                                text       subject  \\\n",
       "0  WASHINGTON (Reuters) - The head of a conservat...  politicsNews   \n",
       "1  WASHINGTON (Reuters) - Transgender people will...  politicsNews   \n",
       "2  WASHINGTON (Reuters) - The special counsel inv...  politicsNews   \n",
       "3  WASHINGTON (Reuters) - Trump campaign adviser ...  politicsNews   \n",
       "4  SEATTLE/WASHINGTON (Reuters) - President Donal...  politicsNews   \n",
       "\n",
       "                 date  label  \n",
       "0  December 31, 2017       1  \n",
       "1  December 29, 2017       1  \n",
       "2  December 31, 2017       1  \n",
       "3  December 30, 2017       1  \n",
       "4  December 29, 2017       1  "
      ]
     },
     "execution_count": 42,
     "metadata": {},
     "output_type": "execute_result"
    }
   ],
   "source": [
    "dtset1_fake['label']=0\n",
    "dtset1_true['label']=1\n",
    "\n",
    "pd.DataFrame.head(dtset1_fake)\n",
    "pd.DataFrame.head(dtset1_true)"
   ]
  },
  {
   "cell_type": "code",
   "execution_count": 43,
   "metadata": {},
   "outputs": [
    {
     "name": "stdout",
     "output_type": "stream",
     "text": [
      "(23481, 5)\n",
      "(21417, 5)\n"
     ]
    }
   ],
   "source": [
    "print(dtset1_fake.shape)\n",
    "print(dtset1_true.shape)"
   ]
  },
  {
   "cell_type": "markdown",
   "metadata": {},
   "source": [
    "Concatinating Datasets"
   ]
  },
  {
   "cell_type": "code",
   "execution_count": 44,
   "metadata": {},
   "outputs": [
    {
     "data": {
      "text/html": [
       "<div>\n",
       "<style scoped>\n",
       "    .dataframe tbody tr th:only-of-type {\n",
       "        vertical-align: middle;\n",
       "    }\n",
       "\n",
       "    .dataframe tbody tr th {\n",
       "        vertical-align: top;\n",
       "    }\n",
       "\n",
       "    .dataframe thead th {\n",
       "        text-align: right;\n",
       "    }\n",
       "</style>\n",
       "<table border=\"1\" class=\"dataframe\">\n",
       "  <thead>\n",
       "    <tr style=\"text-align: right;\">\n",
       "      <th></th>\n",
       "      <th>title</th>\n",
       "      <th>text</th>\n",
       "      <th>subject</th>\n",
       "      <th>date</th>\n",
       "      <th>label</th>\n",
       "    </tr>\n",
       "  </thead>\n",
       "  <tbody>\n",
       "    <tr>\n",
       "      <th>0</th>\n",
       "      <td>Donald Trump Sends Out Embarrassing New Year’...</td>\n",
       "      <td>Donald Trump just couldn t wish all Americans ...</td>\n",
       "      <td>News</td>\n",
       "      <td>December 31, 2017</td>\n",
       "      <td>0</td>\n",
       "    </tr>\n",
       "    <tr>\n",
       "      <th>1</th>\n",
       "      <td>Drunk Bragging Trump Staffer Started Russian ...</td>\n",
       "      <td>House Intelligence Committee Chairman Devin Nu...</td>\n",
       "      <td>News</td>\n",
       "      <td>December 31, 2017</td>\n",
       "      <td>0</td>\n",
       "    </tr>\n",
       "    <tr>\n",
       "      <th>2</th>\n",
       "      <td>Sheriff David Clarke Becomes An Internet Joke...</td>\n",
       "      <td>On Friday, it was revealed that former Milwauk...</td>\n",
       "      <td>News</td>\n",
       "      <td>December 30, 2017</td>\n",
       "      <td>0</td>\n",
       "    </tr>\n",
       "    <tr>\n",
       "      <th>3</th>\n",
       "      <td>Trump Is So Obsessed He Even Has Obama’s Name...</td>\n",
       "      <td>On Christmas day, Donald Trump announced that ...</td>\n",
       "      <td>News</td>\n",
       "      <td>December 29, 2017</td>\n",
       "      <td>0</td>\n",
       "    </tr>\n",
       "    <tr>\n",
       "      <th>4</th>\n",
       "      <td>Pope Francis Just Called Out Donald Trump Dur...</td>\n",
       "      <td>Pope Francis used his annual Christmas Day mes...</td>\n",
       "      <td>News</td>\n",
       "      <td>December 25, 2017</td>\n",
       "      <td>0</td>\n",
       "    </tr>\n",
       "  </tbody>\n",
       "</table>\n",
       "</div>"
      ],
      "text/plain": [
       "                                               title  \\\n",
       "0   Donald Trump Sends Out Embarrassing New Year’...   \n",
       "1   Drunk Bragging Trump Staffer Started Russian ...   \n",
       "2   Sheriff David Clarke Becomes An Internet Joke...   \n",
       "3   Trump Is So Obsessed He Even Has Obama’s Name...   \n",
       "4   Pope Francis Just Called Out Donald Trump Dur...   \n",
       "\n",
       "                                                text subject  \\\n",
       "0  Donald Trump just couldn t wish all Americans ...    News   \n",
       "1  House Intelligence Committee Chairman Devin Nu...    News   \n",
       "2  On Friday, it was revealed that former Milwauk...    News   \n",
       "3  On Christmas day, Donald Trump announced that ...    News   \n",
       "4  Pope Francis used his annual Christmas Day mes...    News   \n",
       "\n",
       "                date  label  \n",
       "0  December 31, 2017      0  \n",
       "1  December 31, 2017      0  \n",
       "2  December 30, 2017      0  \n",
       "3  December 29, 2017      0  \n",
       "4  December 25, 2017      0  "
      ]
     },
     "execution_count": 44,
     "metadata": {},
     "output_type": "execute_result"
    }
   ],
   "source": [
    "dataset1 = pd.concat([dtset1_fake, dtset1_true])\n",
    "pd.DataFrame.head(dataset1)"
   ]
  },
  {
   "cell_type": "code",
   "execution_count": 45,
   "metadata": {},
   "outputs": [
    {
     "data": {
      "text/plain": [
       "0    23481\n",
       "1    21417\n",
       "Name: label, dtype: int64"
      ]
     },
     "execution_count": 45,
     "metadata": {},
     "output_type": "execute_result"
    }
   ],
   "source": [
    "dataset1.label.value_counts()"
   ]
  },
  {
   "cell_type": "markdown",
   "metadata": {},
   "source": [
    "Combining Title and Text"
   ]
  },
  {
   "cell_type": "code",
   "execution_count": 46,
   "metadata": {},
   "outputs": [],
   "source": [
    "dataset1['content'] = dataset1['title']+\" \"+dataset1['text']"
   ]
  },
  {
   "cell_type": "code",
   "execution_count": 47,
   "metadata": {},
   "outputs": [
    {
     "data": {
      "text/html": [
       "<div>\n",
       "<style scoped>\n",
       "    .dataframe tbody tr th:only-of-type {\n",
       "        vertical-align: middle;\n",
       "    }\n",
       "\n",
       "    .dataframe tbody tr th {\n",
       "        vertical-align: top;\n",
       "    }\n",
       "\n",
       "    .dataframe thead th {\n",
       "        text-align: right;\n",
       "    }\n",
       "</style>\n",
       "<table border=\"1\" class=\"dataframe\">\n",
       "  <thead>\n",
       "    <tr style=\"text-align: right;\">\n",
       "      <th></th>\n",
       "      <th>title</th>\n",
       "      <th>text</th>\n",
       "      <th>subject</th>\n",
       "      <th>date</th>\n",
       "      <th>label</th>\n",
       "      <th>content</th>\n",
       "    </tr>\n",
       "  </thead>\n",
       "  <tbody>\n",
       "    <tr>\n",
       "      <th>0</th>\n",
       "      <td>Donald Trump Sends Out Embarrassing New Year’...</td>\n",
       "      <td>Donald Trump just couldn t wish all Americans ...</td>\n",
       "      <td>News</td>\n",
       "      <td>December 31, 2017</td>\n",
       "      <td>0</td>\n",
       "      <td>Donald Trump Sends Out Embarrassing New Year’...</td>\n",
       "    </tr>\n",
       "    <tr>\n",
       "      <th>1</th>\n",
       "      <td>Drunk Bragging Trump Staffer Started Russian ...</td>\n",
       "      <td>House Intelligence Committee Chairman Devin Nu...</td>\n",
       "      <td>News</td>\n",
       "      <td>December 31, 2017</td>\n",
       "      <td>0</td>\n",
       "      <td>Drunk Bragging Trump Staffer Started Russian ...</td>\n",
       "    </tr>\n",
       "    <tr>\n",
       "      <th>2</th>\n",
       "      <td>Sheriff David Clarke Becomes An Internet Joke...</td>\n",
       "      <td>On Friday, it was revealed that former Milwauk...</td>\n",
       "      <td>News</td>\n",
       "      <td>December 30, 2017</td>\n",
       "      <td>0</td>\n",
       "      <td>Sheriff David Clarke Becomes An Internet Joke...</td>\n",
       "    </tr>\n",
       "    <tr>\n",
       "      <th>3</th>\n",
       "      <td>Trump Is So Obsessed He Even Has Obama’s Name...</td>\n",
       "      <td>On Christmas day, Donald Trump announced that ...</td>\n",
       "      <td>News</td>\n",
       "      <td>December 29, 2017</td>\n",
       "      <td>0</td>\n",
       "      <td>Trump Is So Obsessed He Even Has Obama’s Name...</td>\n",
       "    </tr>\n",
       "    <tr>\n",
       "      <th>4</th>\n",
       "      <td>Pope Francis Just Called Out Donald Trump Dur...</td>\n",
       "      <td>Pope Francis used his annual Christmas Day mes...</td>\n",
       "      <td>News</td>\n",
       "      <td>December 25, 2017</td>\n",
       "      <td>0</td>\n",
       "      <td>Pope Francis Just Called Out Donald Trump Dur...</td>\n",
       "    </tr>\n",
       "  </tbody>\n",
       "</table>\n",
       "</div>"
      ],
      "text/plain": [
       "                                               title  \\\n",
       "0   Donald Trump Sends Out Embarrassing New Year’...   \n",
       "1   Drunk Bragging Trump Staffer Started Russian ...   \n",
       "2   Sheriff David Clarke Becomes An Internet Joke...   \n",
       "3   Trump Is So Obsessed He Even Has Obama’s Name...   \n",
       "4   Pope Francis Just Called Out Donald Trump Dur...   \n",
       "\n",
       "                                                text subject  \\\n",
       "0  Donald Trump just couldn t wish all Americans ...    News   \n",
       "1  House Intelligence Committee Chairman Devin Nu...    News   \n",
       "2  On Friday, it was revealed that former Milwauk...    News   \n",
       "3  On Christmas day, Donald Trump announced that ...    News   \n",
       "4  Pope Francis used his annual Christmas Day mes...    News   \n",
       "\n",
       "                date  label                                            content  \n",
       "0  December 31, 2017      0   Donald Trump Sends Out Embarrassing New Year’...  \n",
       "1  December 31, 2017      0   Drunk Bragging Trump Staffer Started Russian ...  \n",
       "2  December 30, 2017      0   Sheriff David Clarke Becomes An Internet Joke...  \n",
       "3  December 29, 2017      0   Trump Is So Obsessed He Even Has Obama’s Name...  \n",
       "4  December 25, 2017      0   Pope Francis Just Called Out Donald Trump Dur...  "
      ]
     },
     "execution_count": 47,
     "metadata": {},
     "output_type": "execute_result"
    }
   ],
   "source": [
    "pd.DataFrame.head(dataset1)"
   ]
  },
  {
   "cell_type": "markdown",
   "metadata": {},
   "source": [
    "Dataset shuffle"
   ]
  },
  {
   "cell_type": "code",
   "execution_count": 48,
   "metadata": {},
   "outputs": [],
   "source": [
    "#dataset1 = shuffle(dataset1)\n",
    "#dataset1[:10]"
   ]
  },
  {
   "cell_type": "markdown",
   "metadata": {},
   "source": [
    "Text Cleaning"
   ]
  },
  {
   "cell_type": "code",
   "execution_count": 49,
   "metadata": {},
   "outputs": [
    {
     "name": "stdout",
     "output_type": "stream",
     "text": [
      "0         Donald Trump Sends Out Embarrassing New Year’...\n",
      "1         Drunk Bragging Trump Staffer Started Russian ...\n",
      "2         Sheriff David Clarke Becomes An Internet Joke...\n",
      "3         Trump Is So Obsessed He Even Has Obama’s Name...\n",
      "4         Pope Francis Just Called Out Donald Trump Dur...\n",
      "                               ...                        \n",
      "21412    'Fully committed' NATO backs new U.S. approach...\n",
      "21413    LexisNexis withdrew two products from Chinese ...\n",
      "21414    Minsk cultural hub becomes haven from authorit...\n",
      "21415    Vatican upbeat on possibility of Pope Francis ...\n",
      "21416    Indonesia to buy $1.14 billion worth of Russia...\n",
      "Name: content, Length: 44898, dtype: object\n"
     ]
    }
   ],
   "source": [
    "content = dataset1.content\n",
    "print(content)"
   ]
  },
  {
   "cell_type": "code",
   "execution_count": 50,
   "metadata": {},
   "outputs": [],
   "source": [
    "port_stem = PorterStemmer()\n",
    "\n",
    "def stemming(content):\n",
    "    stemmed = re.sub('[^a-zA-Z]',' ', content)\n",
    "    stemmed = stemmed.lower()\n",
    "    stemmed = stemmed.split()\n",
    "    stemmed = [port_stem.stem(word) for word in stemmed if not word in stopwords.words('english')]\n",
    "    stemmed = ' '.join(stemmed)\n",
    "    return stemmed"
   ]
  },
  {
   "cell_type": "code",
   "execution_count": 51,
   "metadata": {},
   "outputs": [
    {
     "ename": "KeyboardInterrupt",
     "evalue": "",
     "output_type": "error",
     "traceback": [
      "\u001b[1;31m---------------------------------------------------------------------------\u001b[0m",
      "\u001b[1;31mKeyboardInterrupt\u001b[0m                         Traceback (most recent call last)",
      "\u001b[1;32md:\\Downloads\\research\\VS Code\\Fake-News-Detection\\main.ipynb Cell 18'\u001b[0m in \u001b[0;36m<cell line: 1>\u001b[1;34m()\u001b[0m\n\u001b[1;32m----> <a href='vscode-notebook-cell:/d%3A/Downloads/research/VS%20Code/Fake-News-Detection/main.ipynb#ch0000017?line=0'>1</a>\u001b[0m dataset1[\u001b[39m'\u001b[39m\u001b[39mcontent\u001b[39m\u001b[39m'\u001b[39m] \u001b[39m=\u001b[39m dataset1[\u001b[39m'\u001b[39;49m\u001b[39mcontent\u001b[39;49m\u001b[39m'\u001b[39;49m]\u001b[39m.\u001b[39;49mapply(stemming)\n\u001b[0;32m      <a href='vscode-notebook-cell:/d%3A/Downloads/research/VS%20Code/Fake-News-Detection/main.ipynb#ch0000017?line=1'>2</a>\u001b[0m pd\u001b[39m.\u001b[39mDataFrame\u001b[39m.\u001b[39mhead(dataset1)\n",
      "File \u001b[1;32mc:\\Users\\jimue\\AppData\\Local\\Programs\\Python\\Python310\\lib\\site-packages\\pandas\\core\\series.py:4433\u001b[0m, in \u001b[0;36mSeries.apply\u001b[1;34m(self, func, convert_dtype, args, **kwargs)\u001b[0m\n\u001b[0;32m   <a href='file:///c%3A/Users/jimue/AppData/Local/Programs/Python/Python310/lib/site-packages/pandas/core/series.py?line=4322'>4323</a>\u001b[0m \u001b[39mdef\u001b[39;00m \u001b[39mapply\u001b[39m(\n\u001b[0;32m   <a href='file:///c%3A/Users/jimue/AppData/Local/Programs/Python/Python310/lib/site-packages/pandas/core/series.py?line=4323'>4324</a>\u001b[0m     \u001b[39mself\u001b[39m,\n\u001b[0;32m   <a href='file:///c%3A/Users/jimue/AppData/Local/Programs/Python/Python310/lib/site-packages/pandas/core/series.py?line=4324'>4325</a>\u001b[0m     func: AggFuncType,\n\u001b[1;32m   (...)\u001b[0m\n\u001b[0;32m   <a href='file:///c%3A/Users/jimue/AppData/Local/Programs/Python/Python310/lib/site-packages/pandas/core/series.py?line=4327'>4328</a>\u001b[0m     \u001b[39m*\u001b[39m\u001b[39m*\u001b[39mkwargs,\n\u001b[0;32m   <a href='file:///c%3A/Users/jimue/AppData/Local/Programs/Python/Python310/lib/site-packages/pandas/core/series.py?line=4328'>4329</a>\u001b[0m ) \u001b[39m-\u001b[39m\u001b[39m>\u001b[39m DataFrame \u001b[39m|\u001b[39m Series:\n\u001b[0;32m   <a href='file:///c%3A/Users/jimue/AppData/Local/Programs/Python/Python310/lib/site-packages/pandas/core/series.py?line=4329'>4330</a>\u001b[0m     \u001b[39m\"\"\"\u001b[39;00m\n\u001b[0;32m   <a href='file:///c%3A/Users/jimue/AppData/Local/Programs/Python/Python310/lib/site-packages/pandas/core/series.py?line=4330'>4331</a>\u001b[0m \u001b[39m    Invoke function on values of Series.\u001b[39;00m\n\u001b[0;32m   <a href='file:///c%3A/Users/jimue/AppData/Local/Programs/Python/Python310/lib/site-packages/pandas/core/series.py?line=4331'>4332</a>\u001b[0m \n\u001b[1;32m   (...)\u001b[0m\n\u001b[0;32m   <a href='file:///c%3A/Users/jimue/AppData/Local/Programs/Python/Python310/lib/site-packages/pandas/core/series.py?line=4430'>4431</a>\u001b[0m \u001b[39m    dtype: float64\u001b[39;00m\n\u001b[0;32m   <a href='file:///c%3A/Users/jimue/AppData/Local/Programs/Python/Python310/lib/site-packages/pandas/core/series.py?line=4431'>4432</a>\u001b[0m \u001b[39m    \"\"\"\u001b[39;00m\n\u001b[1;32m-> <a href='file:///c%3A/Users/jimue/AppData/Local/Programs/Python/Python310/lib/site-packages/pandas/core/series.py?line=4432'>4433</a>\u001b[0m     \u001b[39mreturn\u001b[39;00m SeriesApply(\u001b[39mself\u001b[39;49m, func, convert_dtype, args, kwargs)\u001b[39m.\u001b[39;49mapply()\n",
      "File \u001b[1;32mc:\\Users\\jimue\\AppData\\Local\\Programs\\Python\\Python310\\lib\\site-packages\\pandas\\core\\apply.py:1082\u001b[0m, in \u001b[0;36mSeriesApply.apply\u001b[1;34m(self)\u001b[0m\n\u001b[0;32m   <a href='file:///c%3A/Users/jimue/AppData/Local/Programs/Python/Python310/lib/site-packages/pandas/core/apply.py?line=1077'>1078</a>\u001b[0m \u001b[39mif\u001b[39;00m \u001b[39misinstance\u001b[39m(\u001b[39mself\u001b[39m\u001b[39m.\u001b[39mf, \u001b[39mstr\u001b[39m):\n\u001b[0;32m   <a href='file:///c%3A/Users/jimue/AppData/Local/Programs/Python/Python310/lib/site-packages/pandas/core/apply.py?line=1078'>1079</a>\u001b[0m     \u001b[39m# if we are a string, try to dispatch\u001b[39;00m\n\u001b[0;32m   <a href='file:///c%3A/Users/jimue/AppData/Local/Programs/Python/Python310/lib/site-packages/pandas/core/apply.py?line=1079'>1080</a>\u001b[0m     \u001b[39mreturn\u001b[39;00m \u001b[39mself\u001b[39m\u001b[39m.\u001b[39mapply_str()\n\u001b[1;32m-> <a href='file:///c%3A/Users/jimue/AppData/Local/Programs/Python/Python310/lib/site-packages/pandas/core/apply.py?line=1081'>1082</a>\u001b[0m \u001b[39mreturn\u001b[39;00m \u001b[39mself\u001b[39;49m\u001b[39m.\u001b[39;49mapply_standard()\n",
      "File \u001b[1;32mc:\\Users\\jimue\\AppData\\Local\\Programs\\Python\\Python310\\lib\\site-packages\\pandas\\core\\apply.py:1137\u001b[0m, in \u001b[0;36mSeriesApply.apply_standard\u001b[1;34m(self)\u001b[0m\n\u001b[0;32m   <a href='file:///c%3A/Users/jimue/AppData/Local/Programs/Python/Python310/lib/site-packages/pandas/core/apply.py?line=1130'>1131</a>\u001b[0m         values \u001b[39m=\u001b[39m obj\u001b[39m.\u001b[39mastype(\u001b[39mobject\u001b[39m)\u001b[39m.\u001b[39m_values\n\u001b[0;32m   <a href='file:///c%3A/Users/jimue/AppData/Local/Programs/Python/Python310/lib/site-packages/pandas/core/apply.py?line=1131'>1132</a>\u001b[0m         \u001b[39m# error: Argument 2 to \"map_infer\" has incompatible type\u001b[39;00m\n\u001b[0;32m   <a href='file:///c%3A/Users/jimue/AppData/Local/Programs/Python/Python310/lib/site-packages/pandas/core/apply.py?line=1132'>1133</a>\u001b[0m         \u001b[39m# \"Union[Callable[..., Any], str, List[Union[Callable[..., Any], str]],\u001b[39;00m\n\u001b[0;32m   <a href='file:///c%3A/Users/jimue/AppData/Local/Programs/Python/Python310/lib/site-packages/pandas/core/apply.py?line=1133'>1134</a>\u001b[0m         \u001b[39m# Dict[Hashable, Union[Union[Callable[..., Any], str],\u001b[39;00m\n\u001b[0;32m   <a href='file:///c%3A/Users/jimue/AppData/Local/Programs/Python/Python310/lib/site-packages/pandas/core/apply.py?line=1134'>1135</a>\u001b[0m         \u001b[39m# List[Union[Callable[..., Any], str]]]]]\"; expected\u001b[39;00m\n\u001b[0;32m   <a href='file:///c%3A/Users/jimue/AppData/Local/Programs/Python/Python310/lib/site-packages/pandas/core/apply.py?line=1135'>1136</a>\u001b[0m         \u001b[39m# \"Callable[[Any], Any]\"\u001b[39;00m\n\u001b[1;32m-> <a href='file:///c%3A/Users/jimue/AppData/Local/Programs/Python/Python310/lib/site-packages/pandas/core/apply.py?line=1136'>1137</a>\u001b[0m         mapped \u001b[39m=\u001b[39m lib\u001b[39m.\u001b[39;49mmap_infer(\n\u001b[0;32m   <a href='file:///c%3A/Users/jimue/AppData/Local/Programs/Python/Python310/lib/site-packages/pandas/core/apply.py?line=1137'>1138</a>\u001b[0m             values,\n\u001b[0;32m   <a href='file:///c%3A/Users/jimue/AppData/Local/Programs/Python/Python310/lib/site-packages/pandas/core/apply.py?line=1138'>1139</a>\u001b[0m             f,  \u001b[39m# type: ignore[arg-type]\u001b[39;49;00m\n\u001b[0;32m   <a href='file:///c%3A/Users/jimue/AppData/Local/Programs/Python/Python310/lib/site-packages/pandas/core/apply.py?line=1139'>1140</a>\u001b[0m             convert\u001b[39m=\u001b[39;49m\u001b[39mself\u001b[39;49m\u001b[39m.\u001b[39;49mconvert_dtype,\n\u001b[0;32m   <a href='file:///c%3A/Users/jimue/AppData/Local/Programs/Python/Python310/lib/site-packages/pandas/core/apply.py?line=1140'>1141</a>\u001b[0m         )\n\u001b[0;32m   <a href='file:///c%3A/Users/jimue/AppData/Local/Programs/Python/Python310/lib/site-packages/pandas/core/apply.py?line=1142'>1143</a>\u001b[0m \u001b[39mif\u001b[39;00m \u001b[39mlen\u001b[39m(mapped) \u001b[39mand\u001b[39;00m \u001b[39misinstance\u001b[39m(mapped[\u001b[39m0\u001b[39m], ABCSeries):\n\u001b[0;32m   <a href='file:///c%3A/Users/jimue/AppData/Local/Programs/Python/Python310/lib/site-packages/pandas/core/apply.py?line=1143'>1144</a>\u001b[0m     \u001b[39m# GH#43986 Need to do list(mapped) in order to get treated as nested\u001b[39;00m\n\u001b[0;32m   <a href='file:///c%3A/Users/jimue/AppData/Local/Programs/Python/Python310/lib/site-packages/pandas/core/apply.py?line=1144'>1145</a>\u001b[0m     \u001b[39m#  See also GH#25959 regarding EA support\u001b[39;00m\n\u001b[0;32m   <a href='file:///c%3A/Users/jimue/AppData/Local/Programs/Python/Python310/lib/site-packages/pandas/core/apply.py?line=1145'>1146</a>\u001b[0m     \u001b[39mreturn\u001b[39;00m obj\u001b[39m.\u001b[39m_constructor_expanddim(\u001b[39mlist\u001b[39m(mapped), index\u001b[39m=\u001b[39mobj\u001b[39m.\u001b[39mindex)\n",
      "File \u001b[1;32mc:\\Users\\jimue\\AppData\\Local\\Programs\\Python\\Python310\\lib\\site-packages\\pandas\\_libs\\lib.pyx:2870\u001b[0m, in \u001b[0;36mpandas._libs.lib.map_infer\u001b[1;34m()\u001b[0m\n",
      "\u001b[1;32md:\\Downloads\\research\\VS Code\\Fake-News-Detection\\main.ipynb Cell 17'\u001b[0m in \u001b[0;36mstemming\u001b[1;34m(content)\u001b[0m\n\u001b[0;32m      <a href='vscode-notebook-cell:/d%3A/Downloads/research/VS%20Code/Fake-News-Detection/main.ipynb#ch0000016?line=4'>5</a>\u001b[0m stemmed \u001b[39m=\u001b[39m stemmed\u001b[39m.\u001b[39mlower()\n\u001b[0;32m      <a href='vscode-notebook-cell:/d%3A/Downloads/research/VS%20Code/Fake-News-Detection/main.ipynb#ch0000016?line=5'>6</a>\u001b[0m stemmed \u001b[39m=\u001b[39m stemmed\u001b[39m.\u001b[39msplit()\n\u001b[1;32m----> <a href='vscode-notebook-cell:/d%3A/Downloads/research/VS%20Code/Fake-News-Detection/main.ipynb#ch0000016?line=6'>7</a>\u001b[0m stemmed \u001b[39m=\u001b[39m [port_stem\u001b[39m.\u001b[39mstem(word) \u001b[39mfor\u001b[39;00m word \u001b[39min\u001b[39;00m stemmed \u001b[39mif\u001b[39;00m \u001b[39mnot\u001b[39;00m word \u001b[39min\u001b[39;00m stopwords\u001b[39m.\u001b[39mwords(\u001b[39m'\u001b[39m\u001b[39menglish\u001b[39m\u001b[39m'\u001b[39m)]\n\u001b[0;32m      <a href='vscode-notebook-cell:/d%3A/Downloads/research/VS%20Code/Fake-News-Detection/main.ipynb#ch0000016?line=7'>8</a>\u001b[0m stemmed \u001b[39m=\u001b[39m \u001b[39m'\u001b[39m\u001b[39m \u001b[39m\u001b[39m'\u001b[39m\u001b[39m.\u001b[39mjoin(stemmed)\n\u001b[0;32m      <a href='vscode-notebook-cell:/d%3A/Downloads/research/VS%20Code/Fake-News-Detection/main.ipynb#ch0000016?line=8'>9</a>\u001b[0m \u001b[39mreturn\u001b[39;00m stemmed\n",
      "\u001b[1;32md:\\Downloads\\research\\VS Code\\Fake-News-Detection\\main.ipynb Cell 17'\u001b[0m in \u001b[0;36m<listcomp>\u001b[1;34m(.0)\u001b[0m\n\u001b[0;32m      <a href='vscode-notebook-cell:/d%3A/Downloads/research/VS%20Code/Fake-News-Detection/main.ipynb#ch0000016?line=4'>5</a>\u001b[0m stemmed \u001b[39m=\u001b[39m stemmed\u001b[39m.\u001b[39mlower()\n\u001b[0;32m      <a href='vscode-notebook-cell:/d%3A/Downloads/research/VS%20Code/Fake-News-Detection/main.ipynb#ch0000016?line=5'>6</a>\u001b[0m stemmed \u001b[39m=\u001b[39m stemmed\u001b[39m.\u001b[39msplit()\n\u001b[1;32m----> <a href='vscode-notebook-cell:/d%3A/Downloads/research/VS%20Code/Fake-News-Detection/main.ipynb#ch0000016?line=6'>7</a>\u001b[0m stemmed \u001b[39m=\u001b[39m [port_stem\u001b[39m.\u001b[39mstem(word) \u001b[39mfor\u001b[39;00m word \u001b[39min\u001b[39;00m stemmed \u001b[39mif\u001b[39;00m \u001b[39mnot\u001b[39;00m word \u001b[39min\u001b[39;00m stopwords\u001b[39m.\u001b[39;49mwords(\u001b[39m'\u001b[39;49m\u001b[39menglish\u001b[39;49m\u001b[39m'\u001b[39;49m)]\n\u001b[0;32m      <a href='vscode-notebook-cell:/d%3A/Downloads/research/VS%20Code/Fake-News-Detection/main.ipynb#ch0000016?line=7'>8</a>\u001b[0m stemmed \u001b[39m=\u001b[39m \u001b[39m'\u001b[39m\u001b[39m \u001b[39m\u001b[39m'\u001b[39m\u001b[39m.\u001b[39mjoin(stemmed)\n\u001b[0;32m      <a href='vscode-notebook-cell:/d%3A/Downloads/research/VS%20Code/Fake-News-Detection/main.ipynb#ch0000016?line=8'>9</a>\u001b[0m \u001b[39mreturn\u001b[39;00m stemmed\n",
      "File \u001b[1;32mc:\\Users\\jimue\\AppData\\Local\\Programs\\Python\\Python310\\lib\\site-packages\\nltk\\corpus\\reader\\wordlist.py:21\u001b[0m, in \u001b[0;36mWordListCorpusReader.words\u001b[1;34m(self, fileids, ignore_lines_startswith)\u001b[0m\n\u001b[0;32m     <a href='file:///c%3A/Users/jimue/AppData/Local/Programs/Python/Python310/lib/site-packages/nltk/corpus/reader/wordlist.py?line=17'>18</a>\u001b[0m \u001b[39mdef\u001b[39;00m \u001b[39mwords\u001b[39m(\u001b[39mself\u001b[39m, fileids\u001b[39m=\u001b[39m\u001b[39mNone\u001b[39;00m, ignore_lines_startswith\u001b[39m=\u001b[39m\u001b[39m\"\u001b[39m\u001b[39m\\n\u001b[39;00m\u001b[39m\"\u001b[39m):\n\u001b[0;32m     <a href='file:///c%3A/Users/jimue/AppData/Local/Programs/Python/Python310/lib/site-packages/nltk/corpus/reader/wordlist.py?line=18'>19</a>\u001b[0m     \u001b[39mreturn\u001b[39;00m [\n\u001b[0;32m     <a href='file:///c%3A/Users/jimue/AppData/Local/Programs/Python/Python310/lib/site-packages/nltk/corpus/reader/wordlist.py?line=19'>20</a>\u001b[0m         line\n\u001b[1;32m---> <a href='file:///c%3A/Users/jimue/AppData/Local/Programs/Python/Python310/lib/site-packages/nltk/corpus/reader/wordlist.py?line=20'>21</a>\u001b[0m         \u001b[39mfor\u001b[39;00m line \u001b[39min\u001b[39;00m line_tokenize(\u001b[39mself\u001b[39;49m\u001b[39m.\u001b[39;49mraw(fileids))\n\u001b[0;32m     <a href='file:///c%3A/Users/jimue/AppData/Local/Programs/Python/Python310/lib/site-packages/nltk/corpus/reader/wordlist.py?line=21'>22</a>\u001b[0m         \u001b[39mif\u001b[39;00m \u001b[39mnot\u001b[39;00m line\u001b[39m.\u001b[39mstartswith(ignore_lines_startswith)\n\u001b[0;32m     <a href='file:///c%3A/Users/jimue/AppData/Local/Programs/Python/Python310/lib/site-packages/nltk/corpus/reader/wordlist.py?line=22'>23</a>\u001b[0m     ]\n",
      "File \u001b[1;32mc:\\Users\\jimue\\AppData\\Local\\Programs\\Python\\Python310\\lib\\site-packages\\nltk\\corpus\\reader\\api.py:218\u001b[0m, in \u001b[0;36mCorpusReader.raw\u001b[1;34m(self, fileids)\u001b[0m\n\u001b[0;32m    <a href='file:///c%3A/Users/jimue/AppData/Local/Programs/Python/Python310/lib/site-packages/nltk/corpus/reader/api.py?line=215'>216</a>\u001b[0m contents \u001b[39m=\u001b[39m []\n\u001b[0;32m    <a href='file:///c%3A/Users/jimue/AppData/Local/Programs/Python/Python310/lib/site-packages/nltk/corpus/reader/api.py?line=216'>217</a>\u001b[0m \u001b[39mfor\u001b[39;00m f \u001b[39min\u001b[39;00m fileids:\n\u001b[1;32m--> <a href='file:///c%3A/Users/jimue/AppData/Local/Programs/Python/Python310/lib/site-packages/nltk/corpus/reader/api.py?line=217'>218</a>\u001b[0m     \u001b[39mwith\u001b[39;00m \u001b[39mself\u001b[39;49m\u001b[39m.\u001b[39;49mopen(f) \u001b[39mas\u001b[39;00m fp:\n\u001b[0;32m    <a href='file:///c%3A/Users/jimue/AppData/Local/Programs/Python/Python310/lib/site-packages/nltk/corpus/reader/api.py?line=218'>219</a>\u001b[0m         contents\u001b[39m.\u001b[39mappend(fp\u001b[39m.\u001b[39mread())\n\u001b[0;32m    <a href='file:///c%3A/Users/jimue/AppData/Local/Programs/Python/Python310/lib/site-packages/nltk/corpus/reader/api.py?line=219'>220</a>\u001b[0m \u001b[39mreturn\u001b[39;00m concat(contents)\n",
      "File \u001b[1;32mc:\\Users\\jimue\\AppData\\Local\\Programs\\Python\\Python310\\lib\\site-packages\\nltk\\corpus\\reader\\api.py:231\u001b[0m, in \u001b[0;36mCorpusReader.open\u001b[1;34m(self, file)\u001b[0m\n\u001b[0;32m    <a href='file:///c%3A/Users/jimue/AppData/Local/Programs/Python/Python310/lib/site-packages/nltk/corpus/reader/api.py?line=222'>223</a>\u001b[0m \u001b[39m\"\"\"\u001b[39;00m\n\u001b[0;32m    <a href='file:///c%3A/Users/jimue/AppData/Local/Programs/Python/Python310/lib/site-packages/nltk/corpus/reader/api.py?line=223'>224</a>\u001b[0m \u001b[39mReturn an open stream that can be used to read the given file.\u001b[39;00m\n\u001b[0;32m    <a href='file:///c%3A/Users/jimue/AppData/Local/Programs/Python/Python310/lib/site-packages/nltk/corpus/reader/api.py?line=224'>225</a>\u001b[0m \u001b[39mIf the file's encoding is not None, then the stream will\u001b[39;00m\n\u001b[1;32m   (...)\u001b[0m\n\u001b[0;32m    <a href='file:///c%3A/Users/jimue/AppData/Local/Programs/Python/Python310/lib/site-packages/nltk/corpus/reader/api.py?line=227'>228</a>\u001b[0m \u001b[39m:param file: The file identifier of the file to read.\u001b[39;00m\n\u001b[0;32m    <a href='file:///c%3A/Users/jimue/AppData/Local/Programs/Python/Python310/lib/site-packages/nltk/corpus/reader/api.py?line=228'>229</a>\u001b[0m \u001b[39m\"\"\"\u001b[39;00m\n\u001b[0;32m    <a href='file:///c%3A/Users/jimue/AppData/Local/Programs/Python/Python310/lib/site-packages/nltk/corpus/reader/api.py?line=229'>230</a>\u001b[0m encoding \u001b[39m=\u001b[39m \u001b[39mself\u001b[39m\u001b[39m.\u001b[39mencoding(file)\n\u001b[1;32m--> <a href='file:///c%3A/Users/jimue/AppData/Local/Programs/Python/Python310/lib/site-packages/nltk/corpus/reader/api.py?line=230'>231</a>\u001b[0m stream \u001b[39m=\u001b[39m \u001b[39mself\u001b[39;49m\u001b[39m.\u001b[39;49m_root\u001b[39m.\u001b[39;49mjoin(file)\u001b[39m.\u001b[39;49mopen(encoding)\n\u001b[0;32m    <a href='file:///c%3A/Users/jimue/AppData/Local/Programs/Python/Python310/lib/site-packages/nltk/corpus/reader/api.py?line=231'>232</a>\u001b[0m \u001b[39mreturn\u001b[39;00m stream\n",
      "File \u001b[1;32mc:\\Users\\jimue\\AppData\\Local\\Programs\\Python\\Python310\\lib\\site-packages\\nltk\\data.py:324\u001b[0m, in \u001b[0;36mFileSystemPathPointer.open\u001b[1;34m(self, encoding)\u001b[0m\n\u001b[0;32m    <a href='file:///c%3A/Users/jimue/AppData/Local/Programs/Python/Python310/lib/site-packages/nltk/data.py?line=322'>323</a>\u001b[0m \u001b[39mdef\u001b[39;00m \u001b[39mopen\u001b[39m(\u001b[39mself\u001b[39m, encoding\u001b[39m=\u001b[39m\u001b[39mNone\u001b[39;00m):\n\u001b[1;32m--> <a href='file:///c%3A/Users/jimue/AppData/Local/Programs/Python/Python310/lib/site-packages/nltk/data.py?line=323'>324</a>\u001b[0m     stream \u001b[39m=\u001b[39m \u001b[39mopen\u001b[39;49m(\u001b[39mself\u001b[39;49m\u001b[39m.\u001b[39;49m_path, \u001b[39m\"\u001b[39;49m\u001b[39mrb\u001b[39;49m\u001b[39m\"\u001b[39;49m)\n\u001b[0;32m    <a href='file:///c%3A/Users/jimue/AppData/Local/Programs/Python/Python310/lib/site-packages/nltk/data.py?line=324'>325</a>\u001b[0m     \u001b[39mif\u001b[39;00m encoding \u001b[39mis\u001b[39;00m \u001b[39mnot\u001b[39;00m \u001b[39mNone\u001b[39;00m:\n\u001b[0;32m    <a href='file:///c%3A/Users/jimue/AppData/Local/Programs/Python/Python310/lib/site-packages/nltk/data.py?line=325'>326</a>\u001b[0m         stream \u001b[39m=\u001b[39m SeekableUnicodeStreamReader(stream, encoding)\n",
      "\u001b[1;31mKeyboardInterrupt\u001b[0m: "
     ]
    }
   ],
   "source": [
    "dataset1['content'] = dataset1['content'].apply(stemming)\n",
    "pd.DataFrame.head(dataset1)"
   ]
  },
  {
   "cell_type": "code",
   "execution_count": 284,
   "metadata": {},
   "outputs": [],
   "source": [
    "X = dataset1['content'].values"
   ]
  },
  {
   "cell_type": "code",
   "execution_count": 285,
   "metadata": {},
   "outputs": [
    {
     "name": "stdout",
     "output_type": "stream",
     "text": [
      "  (0, 121245)\t0.03493138105375333\n",
      "  (0, 121196)\t0.0925351818248464\n",
      "  (0, 120806)\t0.04705882505914014\n",
      "  (0, 120794)\t0.22397695617886632\n",
      "  (0, 120735)\t0.0690169893140659\n",
      "  (0, 119813)\t0.02553530393651721\n",
      "  (0, 119630)\t0.02175717888185537\n",
      "  (0, 119510)\t0.018464753242459764\n",
      "  (0, 119490)\t0.028112715715497144\n",
      "  (0, 119395)\t0.0317136712548268\n",
      "  (0, 119394)\t0.02050601156045364\n",
      "  (0, 119067)\t0.16374976719209164\n",
      "  (0, 118719)\t0.02225305337687285\n",
      "  (0, 118542)\t0.01892551586770723\n",
      "  (0, 118487)\t0.0290687943620557\n",
      "  (0, 118294)\t0.012099355686385777\n",
      "  (0, 118245)\t0.02475999299710875\n",
      "  (0, 118026)\t0.012020042873253367\n",
      "  (0, 118012)\t0.02126194805475316\n",
      "  (0, 118001)\t0.0716536150036487\n",
      "  (0, 117994)\t0.049429098531608144\n",
      "  (0, 117955)\t0.0716536150036487\n",
      "  (0, 117154)\t0.03572879442009054\n",
      "  (0, 116518)\t0.026315763296670753\n",
      "  (0, 115624)\t0.05029958970114686\n",
      "  :\t:\n",
      "  (44897, 21939)\t0.1057515015694217\n",
      "  (44897, 18233)\t0.08615292828675535\n",
      "  (44897, 18169)\t0.06374407852186688\n",
      "  (44897, 17874)\t0.03049755173661996\n",
      "  (44897, 17168)\t0.026905164021854958\n",
      "  (44897, 16811)\t0.032439463175629395\n",
      "  (44897, 14844)\t0.15250386361856272\n",
      "  (44897, 13875)\t0.061145268925635834\n",
      "  (44897, 13873)\t0.05553220361021967\n",
      "  (44897, 13296)\t0.01763910490101107\n",
      "  (44897, 12038)\t0.06239529602542284\n",
      "  (44897, 11814)\t0.03738730817546886\n",
      "  (44897, 11740)\t0.05172422627670926\n",
      "  (44897, 11326)\t0.02193450105766194\n",
      "  (44897, 10353)\t0.044231626473944796\n",
      "  (44897, 10017)\t0.09793251710661398\n",
      "  (44897, 9954)\t0.020030782000938774\n",
      "  (44897, 9357)\t0.05324364811339533\n",
      "  (44897, 8964)\t0.08509357921476671\n",
      "  (44897, 6294)\t0.09674303315109178\n",
      "  (44897, 5718)\t0.11593493562179537\n",
      "  (44897, 5405)\t0.054513496912067506\n",
      "  (44897, 2032)\t0.034125492668455486\n",
      "  (44897, 977)\t0.09795284404695274\n",
      "  (44897, 720)\t0.04357184487160998\n"
     ]
    }
   ],
   "source": [
    "#TfIdf Vectorizer\n",
    "vectorizer = TfidfVectorizer()\n",
    "vectorizer.fit(X)\n",
    "X = vectorizer.transform(X)\n",
    "\n",
    "print(X)"
   ]
  },
  {
   "cell_type": "markdown",
   "metadata": {},
   "source": [
    "**Train Test Split**"
   ]
  },
  {
   "cell_type": "code",
   "execution_count": 249,
   "metadata": {},
   "outputs": [
    {
     "name": "stdout",
     "output_type": "stream",
     "text": [
      "(35918, 122513)\n",
      "(8980, 122513)\n"
     ]
    }
   ],
   "source": [
    "y = dataset1['label'].values\n",
    "X_train, X_test, y_train, y_test = train_test_split(X, y, train_size=0.8, random_state=80)\n",
    "\n",
    "print(X_train.shape)\n",
    "print(X_test.shape)\n"
   ]
  },
  {
   "cell_type": "code",
   "execution_count": 271,
   "metadata": {},
   "outputs": [
    {
     "name": "stdout",
     "output_type": "stream",
     "text": [
      "  (0, 1380)\t0.05633672289076679\n",
      "  (0, 3936)\t0.13423236159130142\n",
      "  (0, 6223)\t0.1254659537119761\n",
      "  (0, 8652)\t0.05488974621370562\n",
      "  (0, 8736)\t0.041587807359993276\n",
      "  (0, 8950)\t0.050010585429566115\n",
      "  (0, 9192)\t0.04226235450450736\n",
      "  (0, 9954)\t0.02167751380432042\n",
      "  (0, 10118)\t0.043572765032462456\n",
      "  (0, 11664)\t0.03406200081288946\n",
      "  (0, 12038)\t0.0675248170966252\n",
      "  (0, 12459)\t0.034425550870912494\n",
      "  (0, 13037)\t0.05012459878665014\n",
      "  (0, 17043)\t0.021626420680544527\n",
      "  (0, 17855)\t0.04338572932286047\n",
      "  (0, 18196)\t0.11752414440291285\n",
      "  (0, 19458)\t0.07760634935371649\n",
      "  (0, 19961)\t0.06507642061618553\n",
      "  (0, 20418)\t0.06983630318186262\n",
      "  (0, 20492)\t0.07004535344842763\n",
      "  (0, 21824)\t0.04110442747445883\n",
      "  (0, 21876)\t0.01912865585117413\n",
      "  (0, 22008)\t0.13423236159130142\n",
      "  (0, 22023)\t0.016761804315775224\n",
      "  (0, 22668)\t0.025675703699590397\n",
      "  :\t:\n",
      "  (35917, 106676)\t0.021130685210897508\n",
      "  (35917, 106765)\t0.03040430192125966\n",
      "  (35917, 107673)\t0.0335056798947652\n",
      "  (35917, 108220)\t0.028426373909332676\n",
      "  (35917, 108256)\t0.10112707396337649\n",
      "  (35917, 108444)\t0.06308119020368959\n",
      "  (35917, 108678)\t0.027220806386782655\n",
      "  (35917, 108730)\t0.04710562586390908\n",
      "  (35917, 109225)\t0.035540866189905145\n",
      "  (35917, 109626)\t0.04294390570918095\n",
      "  (35917, 109668)\t0.026650447398490897\n",
      "  (35917, 109887)\t0.04309191372129569\n",
      "  (35917, 110971)\t0.043244145656759825\n",
      "  (35917, 114291)\t0.015420925335124073\n",
      "  (35917, 115338)\t0.05174716135867499\n",
      "  (35917, 115840)\t0.01985610644342136\n",
      "  (35917, 116384)\t0.03863706257238325\n",
      "  (35917, 117154)\t0.02265264499255158\n",
      "  (35917, 117325)\t0.05965599782686526\n",
      "  (35917, 118026)\t0.03048362178713201\n",
      "  (35917, 118321)\t0.014586030983805105\n",
      "  (35917, 119114)\t0.0204421487441431\n",
      "  (35917, 120998)\t0.06033946147812999\n",
      "  (35917, 121196)\t0.13410018652043648\n",
      "  (35917, 121236)\t0.025351548115144413\n"
     ]
    }
   ],
   "source": [
    "print(X_train)"
   ]
  },
  {
   "cell_type": "code",
   "execution_count": 251,
   "metadata": {},
   "outputs": [
    {
     "data": {
      "text/plain": [
       "<8980x122513 sparse matrix of type '<class 'numpy.float64'>'\n",
       "\twith 1911449 stored elements in Compressed Sparse Row format>"
      ]
     },
     "execution_count": 251,
     "metadata": {},
     "output_type": "execute_result"
    }
   ],
   "source": [
    "X_test"
   ]
  },
  {
   "cell_type": "code",
   "execution_count": 252,
   "metadata": {},
   "outputs": [
    {
     "data": {
      "text/plain": [
       "array([0, 1, 0, ..., 0, 1, 0], dtype=int64)"
      ]
     },
     "execution_count": 252,
     "metadata": {},
     "output_type": "execute_result"
    }
   ],
   "source": [
    "y_train"
   ]
  },
  {
   "cell_type": "code",
   "execution_count": 253,
   "metadata": {},
   "outputs": [
    {
     "data": {
      "text/plain": [
       "array([0, 1, 1, ..., 1, 0, 0], dtype=int64)"
      ]
     },
     "execution_count": 253,
     "metadata": {},
     "output_type": "execute_result"
    }
   ],
   "source": [
    "y_test"
   ]
  },
  {
   "cell_type": "markdown",
   "metadata": {},
   "source": [
    "**CountVectorizer**"
   ]
  },
  {
   "cell_type": "code",
   "execution_count": 254,
   "metadata": {},
   "outputs": [],
   "source": [
    "#covector = CountVectorizer()\n",
    "#X_traincovector = covector.transform(X_train)\n",
    "#X_testcovector = covector.transform(X_test)"
   ]
  },
  {
   "cell_type": "code",
   "execution_count": 255,
   "metadata": {},
   "outputs": [],
   "source": [
    "#print(X_traincovector)"
   ]
  },
  {
   "cell_type": "code",
   "execution_count": 256,
   "metadata": {},
   "outputs": [],
   "source": [
    "#print(X_testcovector)"
   ]
  },
  {
   "cell_type": "markdown",
   "metadata": {},
   "source": [
    "**Logistic Regression**"
   ]
  },
  {
   "cell_type": "code",
   "execution_count": 257,
   "metadata": {},
   "outputs": [],
   "source": [
    "LR = LogisticRegression()\n",
    "LR.fit(X_train, y_train)\n",
    "LRpred = LR.predict(X_test)"
   ]
  },
  {
   "cell_type": "code",
   "execution_count": 258,
   "metadata": {},
   "outputs": [
    {
     "name": "stdout",
     "output_type": "stream",
     "text": [
      "[0 1 1 ... 1 0 0]\n",
      "[0 1 1 ... 1 0 0]\n"
     ]
    }
   ],
   "source": [
    "print(LRpred)\n",
    "print(y_test)"
   ]
  },
  {
   "cell_type": "code",
   "execution_count": 259,
   "metadata": {},
   "outputs": [
    {
     "name": "stdout",
     "output_type": "stream",
     "text": [
      "0.9878619153674832\n"
     ]
    }
   ],
   "source": [
    "LRscore = LR.score(X_test, y_test)\n",
    "print(LRscore)"
   ]
  },
  {
   "cell_type": "code",
   "execution_count": 260,
   "metadata": {},
   "outputs": [
    {
     "name": "stdout",
     "output_type": "stream",
     "text": [
      "[[4648   55]\n",
      " [  54 4223]]\n"
     ]
    },
    {
     "name": "stderr",
     "output_type": "stream",
     "text": [
      "c:\\Users\\jethr\\AppData\\Local\\Programs\\Python\\Python310\\lib\\site-packages\\sklearn\\utils\\deprecation.py:87: FutureWarning: Function plot_confusion_matrix is deprecated; Function `plot_confusion_matrix` is deprecated in 1.0 and will be removed in 1.2. Use one of the class methods: ConfusionMatrixDisplay.from_predictions or ConfusionMatrixDisplay.from_estimator.\n",
      "  warnings.warn(msg, category=FutureWarning)\n"
     ]
    },
    {
     "data": {
      "text/plain": [
       "<sklearn.metrics._plot.confusion_matrix.ConfusionMatrixDisplay at 0x29d1affea10>"
      ]
     },
     "execution_count": 260,
     "metadata": {},
     "output_type": "execute_result"
    },
    {
     "data": {
      "image/png": "[encoded data removed]",
      "text/plain": [
       "<Figure size 432x288 with 2 Axes>"
      ]
     },
     "metadata": {
      "needs_background": "light"
     },
     "output_type": "display_data"
    }
   ],
   "source": [
    "from sklearn import metrics\n",
    "LR_r_score = metrics.confusion_matrix(y_test, LRpred)\n",
    "print(LR_r_score)\n",
    "plot_confusion_matrix(LR, X_test, y_test)"
   ]
  },
  {
   "cell_type": "code",
   "execution_count": 261,
   "metadata": {},
   "outputs": [
    {
     "name": "stdout",
     "output_type": "stream",
     "text": [
      "accuracy: 0.9878619153674832\n",
      "precision: 0.9871435250116877\n",
      "recall: 0.9873743277998597\n"
     ]
    }
   ],
   "source": [
    "LR_r_score = np.flip(LR_r_score)\n",
    "\n",
    "#accuracy\n",
    "LR_acc = (LR_r_score[0][0] + LR_r_score[-1][-1]) / np.sum(LR_r_score)\n",
    "print('accuracy: '+ str(float(LR_acc)))\n",
    "\n",
    "#precission\n",
    "LR_precision = sklearn.metrics.precision_score(y_test, LRpred)\n",
    "print('precision: '+ str(float(LR_precision)))\n",
    "\n",
    "#recall\n",
    "LR_recall = sklearn.metrics.recall_score(y_test, LRpred)\n",
    "print('recall: '+ str(float(LR_recall)))"
   ]
  },
  {
   "cell_type": "markdown",
   "metadata": {},
   "source": [
    "**AdaBoost Classifier**"
   ]
  },
  {
   "cell_type": "code",
   "execution_count": 262,
   "metadata": {},
   "outputs": [],
   "source": [
    "Ada = AdaBoostClassifier()\n",
    "Ada.fit(X_train, y_train)\n",
    "Adapred = Ada.predict(X_test)"
   ]
  },
  {
   "cell_type": "code",
   "execution_count": 263,
   "metadata": {},
   "outputs": [
    {
     "name": "stdout",
     "output_type": "stream",
     "text": [
      "[0 1 1 ... 1 0 0]\n",
      "[0 1 1 ... 1 0 0]\n"
     ]
    }
   ],
   "source": [
    "print(Adapred)\n",
    "print(y_test)"
   ]
  },
  {
   "cell_type": "code",
   "execution_count": 264,
   "metadata": {},
   "outputs": [
    {
     "name": "stdout",
     "output_type": "stream",
     "text": [
      "0.9967706013363029\n"
     ]
    }
   ],
   "source": [
    "Adascore = Ada.score(X_test, y_test)\n",
    "print(Adascore)"
   ]
  },
  {
   "cell_type": "code",
   "execution_count": 265,
   "metadata": {},
   "outputs": [
    {
     "name": "stdout",
     "output_type": "stream",
     "text": [
      "[[4689   14]\n",
      " [  15 4262]]\n"
     ]
    },
    {
     "name": "stderr",
     "output_type": "stream",
     "text": [
      "c:\\Users\\jethr\\AppData\\Local\\Programs\\Python\\Python310\\lib\\site-packages\\sklearn\\utils\\deprecation.py:87: FutureWarning: Function plot_confusion_matrix is deprecated; Function `plot_confusion_matrix` is deprecated in 1.0 and will be removed in 1.2. Use one of the class methods: ConfusionMatrixDisplay.from_predictions or ConfusionMatrixDisplay.from_estimator.\n",
      "  warnings.warn(msg, category=FutureWarning)\n"
     ]
    },
    {
     "data": {
      "text/plain": [
       "<sklearn.metrics._plot.confusion_matrix.ConfusionMatrixDisplay at 0x29d1c9c9cc0>"
      ]
     },
     "execution_count": 265,
     "metadata": {},
     "output_type": "execute_result"
    },
    {
     "data": {
      "image/png": "[encoded data removed]",
      "text/plain": [
       "<Figure size 432x288 with 2 Axes>"
      ]
     },
     "metadata": {
      "needs_background": "light"
     },
     "output_type": "display_data"
    }
   ],
   "source": [
    "Ada_r_score = metrics.confusion_matrix(y_test, Adapred)\n",
    "print(Ada_r_score)\n",
    "plot_confusion_matrix(Ada, X_test, y_test)"
   ]
  },
  {
   "cell_type": "code",
   "execution_count": 266,
   "metadata": {},
   "outputs": [
    {
     "name": "stdout",
     "output_type": "stream",
     "text": [
      "accuracy: 0.9967706013363029\n",
      "precision: 0.9967259120673526\n",
      "recall: 0.9964928688332944\n"
     ]
    }
   ],
   "source": [
    "Ada_r_score = np.flip(Ada_r_score)\n",
    "\n",
    "#accuracy\n",
    "Ada_acc = (Ada_r_score[0][0] + Ada_r_score[-1][-1]) / np.sum(Ada_r_score)\n",
    "print('accuracy: '+ str(float(Ada_acc)))\n",
    "\n",
    "#precission\n",
    "Ada_precision = sklearn.metrics.precision_score(y_test, Adapred)\n",
    "print('precision: '+ str(float(Ada_precision)))\n",
    "\n",
    "#recall\n",
    "Ada_recall = sklearn.metrics.recall_score(y_test, Adapred)\n",
    "print('recall: '+ str(float(Ada_recall)))"
   ]
  },
  {
   "cell_type": "markdown",
   "metadata": {},
   "source": [
    "Test = 'Pope Francis Shocks World, Endorses Donald Trump for President'\n",
    "\n",
    "port_stem = PorterStemmer()\n",
    "\n",
    "def stemming(Test):\n",
    "    stemmed = re.sub('[^a-zA-Z]',' ', Test)\n",
    "    stemmed = stemmed.lower()\n",
    "    stemmed = stemmed.split()\n",
    "    stemmed = [port_stem.stem(word) for word in stemmed if not word in stopwords.words('english')]\n",
    "    stemmed = ' '.join(stemmed)\n",
    "    return stemmed\n",
    "\n",
    "\n",
    "X_input = stemming(Test)\n",
    "\n",
    "vectorizer.fit(X_input)\n",
    "X_test_inp = vectorizer.transform(X_input)\n",
    "\n",
    "print(X)"
   ]
  },
  {
   "cell_type": "code",
   "execution_count": 269,
   "metadata": {},
   "outputs": [],
   "source": [
    "def wordopt(text):\n",
    "    text = re.sub('[^a-zA-Z]',' ', text)\n",
    "    text = text.lower()\n",
    "    return text\n",
    "\n",
    "def output_lable(n):\n",
    "    if n == 0:\n",
    "        return \"Fake News\"\n",
    "    elif n == 1:\n",
    "        return \"Not A Fake News\"\n",
    "    \n",
    "def manual_testing(news):\n",
    "    testing_news = {\"text\":[news]}\n",
    "    new_def_test = pd.DataFrame(testing_news)\n",
    "    new_def_test[\"text\"] = new_def_test[\"text\"].apply(wordopt) \n",
    "    new_x_test = new_def_test[\"text\"]\n",
    "    new_xv_test = vectorizer.fit_transform(new_x_test)\n",
    "    pred_LR = LR.predict(new_xv_test)\n",
    "    return print(\"\\n\\nLR Prediction: {} \\nDT Prediction: {} \\nGBC Prediction: {} \\nRFC Prediction: {}\".format(output_lable(pred_LR[0])))"
   ]
  },
  {
   "cell_type": "code",
   "execution_count": 270,
   "metadata": {},
   "outputs": [
    {
     "ename": "ValueError",
     "evalue": "X has 9 features, but LogisticRegression is expecting 122513 features as input.",
     "output_type": "error",
     "traceback": [
      "\u001b[1;31m---------------------------------------------------------------------------\u001b[0m",
      "\u001b[1;31mValueError\u001b[0m                                Traceback (most recent call last)",
      "\u001b[1;32md:\\User Files\\Documents\\School\\G12\\2nd Sem\\Research\\Research - Fake News Detection\\Fake-News-Detection\\main.ipynb Cell 45'\u001b[0m in \u001b[0;36m<cell line: 2>\u001b[1;34m()\u001b[0m\n\u001b[0;32m      <a href='vscode-notebook-cell:/d%3A/User%20Files/Documents/School/G12/2nd%20Sem/Research/Research%20-%20Fake%20News%20Detection/Fake-News-Detection/main.ipynb#ch0000059?line=0'>1</a>\u001b[0m news \u001b[39m=\u001b[39m \u001b[39mstr\u001b[39m(\u001b[39minput\u001b[39m())\n\u001b[1;32m----> <a href='vscode-notebook-cell:/d%3A/User%20Files/Documents/School/G12/2nd%20Sem/Research/Research%20-%20Fake%20News%20Detection/Fake-News-Detection/main.ipynb#ch0000059?line=1'>2</a>\u001b[0m manual_testing(news)\n",
      "\u001b[1;32md:\\User Files\\Documents\\School\\G12\\2nd Sem\\Research\\Research - Fake News Detection\\Fake-News-Detection\\main.ipynb Cell 44'\u001b[0m in \u001b[0;36mmanual_testing\u001b[1;34m(news)\u001b[0m\n\u001b[0;32m     <a href='vscode-notebook-cell:/d%3A/User%20Files/Documents/School/G12/2nd%20Sem/Research/Research%20-%20Fake%20News%20Detection/Fake-News-Detection/main.ipynb#ch0000058?line=15'>16</a>\u001b[0m new_x_test \u001b[39m=\u001b[39m new_def_test[\u001b[39m\"\u001b[39m\u001b[39mtext\u001b[39m\u001b[39m\"\u001b[39m]\n\u001b[0;32m     <a href='vscode-notebook-cell:/d%3A/User%20Files/Documents/School/G12/2nd%20Sem/Research/Research%20-%20Fake%20News%20Detection/Fake-News-Detection/main.ipynb#ch0000058?line=16'>17</a>\u001b[0m new_xv_test \u001b[39m=\u001b[39m vectorizer\u001b[39m.\u001b[39mtransform(new_x_test)\n\u001b[1;32m---> <a href='vscode-notebook-cell:/d%3A/User%20Files/Documents/School/G12/2nd%20Sem/Research/Research%20-%20Fake%20News%20Detection/Fake-News-Detection/main.ipynb#ch0000058?line=17'>18</a>\u001b[0m pred_LR \u001b[39m=\u001b[39m LR\u001b[39m.\u001b[39;49mpredict(new_xv_test)\n\u001b[0;32m     <a href='vscode-notebook-cell:/d%3A/User%20Files/Documents/School/G12/2nd%20Sem/Research/Research%20-%20Fake%20News%20Detection/Fake-News-Detection/main.ipynb#ch0000058?line=18'>19</a>\u001b[0m \u001b[39mreturn\u001b[39;00m \u001b[39mprint\u001b[39m(\u001b[39m\"\u001b[39m\u001b[39m\\n\u001b[39;00m\u001b[39m\\n\u001b[39;00m\u001b[39mLR Prediction: \u001b[39m\u001b[39m{}\u001b[39;00m\u001b[39m \u001b[39m\u001b[39m\\n\u001b[39;00m\u001b[39mDT Prediction: \u001b[39m\u001b[39m{}\u001b[39;00m\u001b[39m \u001b[39m\u001b[39m\\n\u001b[39;00m\u001b[39mGBC Prediction: \u001b[39m\u001b[39m{}\u001b[39;00m\u001b[39m \u001b[39m\u001b[39m\\n\u001b[39;00m\u001b[39mRFC Prediction: \u001b[39m\u001b[39m{}\u001b[39;00m\u001b[39m\"\u001b[39m\u001b[39m.\u001b[39mformat(output_lable(pred_LR[\u001b[39m0\u001b[39m])))\n",
      "File \u001b[1;32mc:\\Users\\jethr\\AppData\\Local\\Programs\\Python\\Python310\\lib\\site-packages\\sklearn\\linear_model\\_base.py:447\u001b[0m, in \u001b[0;36mLinearClassifierMixin.predict\u001b[1;34m(self, X)\u001b[0m\n\u001b[0;32m    <a href='file:///c%3A/Users/jethr/AppData/Local/Programs/Python/Python310/lib/site-packages/sklearn/linear_model/_base.py?line=432'>433</a>\u001b[0m \u001b[39mdef\u001b[39;00m \u001b[39mpredict\u001b[39m(\u001b[39mself\u001b[39m, X):\n\u001b[0;32m    <a href='file:///c%3A/Users/jethr/AppData/Local/Programs/Python/Python310/lib/site-packages/sklearn/linear_model/_base.py?line=433'>434</a>\u001b[0m     \u001b[39m\"\"\"\u001b[39;00m\n\u001b[0;32m    <a href='file:///c%3A/Users/jethr/AppData/Local/Programs/Python/Python310/lib/site-packages/sklearn/linear_model/_base.py?line=434'>435</a>\u001b[0m \u001b[39m    Predict class labels for samples in X.\u001b[39;00m\n\u001b[0;32m    <a href='file:///c%3A/Users/jethr/AppData/Local/Programs/Python/Python310/lib/site-packages/sklearn/linear_model/_base.py?line=435'>436</a>\u001b[0m \n\u001b[1;32m   (...)\u001b[0m\n\u001b[0;32m    <a href='file:///c%3A/Users/jethr/AppData/Local/Programs/Python/Python310/lib/site-packages/sklearn/linear_model/_base.py?line=444'>445</a>\u001b[0m \u001b[39m        Vector containing the class labels for each sample.\u001b[39;00m\n\u001b[0;32m    <a href='file:///c%3A/Users/jethr/AppData/Local/Programs/Python/Python310/lib/site-packages/sklearn/linear_model/_base.py?line=445'>446</a>\u001b[0m \u001b[39m    \"\"\"\u001b[39;00m\n\u001b[1;32m--> <a href='file:///c%3A/Users/jethr/AppData/Local/Programs/Python/Python310/lib/site-packages/sklearn/linear_model/_base.py?line=446'>447</a>\u001b[0m     scores \u001b[39m=\u001b[39m \u001b[39mself\u001b[39;49m\u001b[39m.\u001b[39;49mdecision_function(X)\n\u001b[0;32m    <a href='file:///c%3A/Users/jethr/AppData/Local/Programs/Python/Python310/lib/site-packages/sklearn/linear_model/_base.py?line=447'>448</a>\u001b[0m     \u001b[39mif\u001b[39;00m \u001b[39mlen\u001b[39m(scores\u001b[39m.\u001b[39mshape) \u001b[39m==\u001b[39m \u001b[39m1\u001b[39m:\n\u001b[0;32m    <a href='file:///c%3A/Users/jethr/AppData/Local/Programs/Python/Python310/lib/site-packages/sklearn/linear_model/_base.py?line=448'>449</a>\u001b[0m         indices \u001b[39m=\u001b[39m (scores \u001b[39m>\u001b[39m \u001b[39m0\u001b[39m)\u001b[39m.\u001b[39mastype(\u001b[39mint\u001b[39m)\n",
      "File \u001b[1;32mc:\\Users\\jethr\\AppData\\Local\\Programs\\Python\\Python310\\lib\\site-packages\\sklearn\\linear_model\\_base.py:429\u001b[0m, in \u001b[0;36mLinearClassifierMixin.decision_function\u001b[1;34m(self, X)\u001b[0m\n\u001b[0;32m    <a href='file:///c%3A/Users/jethr/AppData/Local/Programs/Python/Python310/lib/site-packages/sklearn/linear_model/_base.py?line=408'>409</a>\u001b[0m \u001b[39m\"\"\"\u001b[39;00m\n\u001b[0;32m    <a href='file:///c%3A/Users/jethr/AppData/Local/Programs/Python/Python310/lib/site-packages/sklearn/linear_model/_base.py?line=409'>410</a>\u001b[0m \u001b[39mPredict confidence scores for samples.\u001b[39;00m\n\u001b[0;32m    <a href='file:///c%3A/Users/jethr/AppData/Local/Programs/Python/Python310/lib/site-packages/sklearn/linear_model/_base.py?line=410'>411</a>\u001b[0m \n\u001b[1;32m   (...)\u001b[0m\n\u001b[0;32m    <a href='file:///c%3A/Users/jethr/AppData/Local/Programs/Python/Python310/lib/site-packages/sklearn/linear_model/_base.py?line=424'>425</a>\u001b[0m \u001b[39m    this class would be predicted.\u001b[39;00m\n\u001b[0;32m    <a href='file:///c%3A/Users/jethr/AppData/Local/Programs/Python/Python310/lib/site-packages/sklearn/linear_model/_base.py?line=425'>426</a>\u001b[0m \u001b[39m\"\"\"\u001b[39;00m\n\u001b[0;32m    <a href='file:///c%3A/Users/jethr/AppData/Local/Programs/Python/Python310/lib/site-packages/sklearn/linear_model/_base.py?line=426'>427</a>\u001b[0m check_is_fitted(\u001b[39mself\u001b[39m)\n\u001b[1;32m--> <a href='file:///c%3A/Users/jethr/AppData/Local/Programs/Python/Python310/lib/site-packages/sklearn/linear_model/_base.py?line=428'>429</a>\u001b[0m X \u001b[39m=\u001b[39m \u001b[39mself\u001b[39;49m\u001b[39m.\u001b[39;49m_validate_data(X, accept_sparse\u001b[39m=\u001b[39;49m\u001b[39m\"\u001b[39;49m\u001b[39mcsr\u001b[39;49m\u001b[39m\"\u001b[39;49m, reset\u001b[39m=\u001b[39;49m\u001b[39mFalse\u001b[39;49;00m)\n\u001b[0;32m    <a href='file:///c%3A/Users/jethr/AppData/Local/Programs/Python/Python310/lib/site-packages/sklearn/linear_model/_base.py?line=429'>430</a>\u001b[0m scores \u001b[39m=\u001b[39m safe_sparse_dot(X, \u001b[39mself\u001b[39m\u001b[39m.\u001b[39mcoef_\u001b[39m.\u001b[39mT, dense_output\u001b[39m=\u001b[39m\u001b[39mTrue\u001b[39;00m) \u001b[39m+\u001b[39m \u001b[39mself\u001b[39m\u001b[39m.\u001b[39mintercept_\n\u001b[0;32m    <a href='file:///c%3A/Users/jethr/AppData/Local/Programs/Python/Python310/lib/site-packages/sklearn/linear_model/_base.py?line=430'>431</a>\u001b[0m \u001b[39mreturn\u001b[39;00m scores\u001b[39m.\u001b[39mravel() \u001b[39mif\u001b[39;00m scores\u001b[39m.\u001b[39mshape[\u001b[39m1\u001b[39m] \u001b[39m==\u001b[39m \u001b[39m1\u001b[39m \u001b[39melse\u001b[39;00m scores\n",
      "File \u001b[1;32mc:\\Users\\jethr\\AppData\\Local\\Programs\\Python\\Python310\\lib\\site-packages\\sklearn\\base.py:600\u001b[0m, in \u001b[0;36mBaseEstimator._validate_data\u001b[1;34m(self, X, y, reset, validate_separately, **check_params)\u001b[0m\n\u001b[0;32m    <a href='file:///c%3A/Users/jethr/AppData/Local/Programs/Python/Python310/lib/site-packages/sklearn/base.py?line=596'>597</a>\u001b[0m     out \u001b[39m=\u001b[39m X, y\n\u001b[0;32m    <a href='file:///c%3A/Users/jethr/AppData/Local/Programs/Python/Python310/lib/site-packages/sklearn/base.py?line=598'>599</a>\u001b[0m \u001b[39mif\u001b[39;00m \u001b[39mnot\u001b[39;00m no_val_X \u001b[39mand\u001b[39;00m check_params\u001b[39m.\u001b[39mget(\u001b[39m\"\u001b[39m\u001b[39mensure_2d\u001b[39m\u001b[39m\"\u001b[39m, \u001b[39mTrue\u001b[39;00m):\n\u001b[1;32m--> <a href='file:///c%3A/Users/jethr/AppData/Local/Programs/Python/Python310/lib/site-packages/sklearn/base.py?line=599'>600</a>\u001b[0m     \u001b[39mself\u001b[39;49m\u001b[39m.\u001b[39;49m_check_n_features(X, reset\u001b[39m=\u001b[39;49mreset)\n\u001b[0;32m    <a href='file:///c%3A/Users/jethr/AppData/Local/Programs/Python/Python310/lib/site-packages/sklearn/base.py?line=601'>602</a>\u001b[0m \u001b[39mreturn\u001b[39;00m out\n",
      "File \u001b[1;32mc:\\Users\\jethr\\AppData\\Local\\Programs\\Python\\Python310\\lib\\site-packages\\sklearn\\base.py:400\u001b[0m, in \u001b[0;36mBaseEstimator._check_n_features\u001b[1;34m(self, X, reset)\u001b[0m\n\u001b[0;32m    <a href='file:///c%3A/Users/jethr/AppData/Local/Programs/Python/Python310/lib/site-packages/sklearn/base.py?line=396'>397</a>\u001b[0m     \u001b[39mreturn\u001b[39;00m\n\u001b[0;32m    <a href='file:///c%3A/Users/jethr/AppData/Local/Programs/Python/Python310/lib/site-packages/sklearn/base.py?line=398'>399</a>\u001b[0m \u001b[39mif\u001b[39;00m n_features \u001b[39m!=\u001b[39m \u001b[39mself\u001b[39m\u001b[39m.\u001b[39mn_features_in_:\n\u001b[1;32m--> <a href='file:///c%3A/Users/jethr/AppData/Local/Programs/Python/Python310/lib/site-packages/sklearn/base.py?line=399'>400</a>\u001b[0m     \u001b[39mraise\u001b[39;00m \u001b[39mValueError\u001b[39;00m(\n\u001b[0;32m    <a href='file:///c%3A/Users/jethr/AppData/Local/Programs/Python/Python310/lib/site-packages/sklearn/base.py?line=400'>401</a>\u001b[0m         \u001b[39mf\u001b[39m\u001b[39m\"\u001b[39m\u001b[39mX has \u001b[39m\u001b[39m{\u001b[39;00mn_features\u001b[39m}\u001b[39;00m\u001b[39m features, but \u001b[39m\u001b[39m{\u001b[39;00m\u001b[39mself\u001b[39m\u001b[39m.\u001b[39m\u001b[39m__class__\u001b[39m\u001b[39m.\u001b[39m\u001b[39m__name__\u001b[39m\u001b[39m}\u001b[39;00m\u001b[39m \u001b[39m\u001b[39m\"\u001b[39m\n\u001b[0;32m    <a href='file:///c%3A/Users/jethr/AppData/Local/Programs/Python/Python310/lib/site-packages/sklearn/base.py?line=401'>402</a>\u001b[0m         \u001b[39mf\u001b[39m\u001b[39m\"\u001b[39m\u001b[39mis expecting \u001b[39m\u001b[39m{\u001b[39;00m\u001b[39mself\u001b[39m\u001b[39m.\u001b[39mn_features_in_\u001b[39m}\u001b[39;00m\u001b[39m features as input.\u001b[39m\u001b[39m\"\u001b[39m\n\u001b[0;32m    <a href='file:///c%3A/Users/jethr/AppData/Local/Programs/Python/Python310/lib/site-packages/sklearn/base.py?line=402'>403</a>\u001b[0m     )\n",
      "\u001b[1;31mValueError\u001b[0m: X has 9 features, but LogisticRegression is expecting 122513 features as input."
     ]
    }
   ],
   "source": [
    "news = str(input())\n",
    "manual_testing(news)"
   ]
  },
  {
   "cell_type": "code",
   "execution_count": 280,
   "metadata": {},
   "outputs": [
    {
     "data": {
      "text/plain": [
       "array(['donald', 'endorses', 'for', 'francis', 'pope', 'president',\n",
       "       'shocks', 'trump', 'world'], dtype=object)"
      ]
     },
     "execution_count": 280,
     "metadata": {},
     "output_type": "execute_result"
    }
   ],
   "source": [
    "vectorizer.get_feature_names_out()"
   ]
  }
 ],
 "metadata": {
  "interpreter": {
   "hash": "a6b989f8aea76d281d40c171688fb68eaa44ba401600b93bc7d7cc3f2b5fca20"
  },
  "kernelspec": {
   "display_name": "Python 3.10.4 64-bit",
   "language": "python",
   "name": "python3"
  },
  "language_info": {
   "codemirror_mode": {
    "name": "ipython",
    "version": 3
   },
   "file_extension": ".py",
   "mimetype": "text/x-python",
   "name": "python",
   "nbconvert_exporter": "python",
   "pygments_lexer": "ipython3",
   "version": "3.10.4"
  },
  "orig_nbformat": 4
 },
 "nbformat": 4,
 "nbformat_minor": 2
}
