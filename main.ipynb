{
 "cells": [
  {
   "cell_type": "code",
   "execution_count": 116,
   "metadata": {},
   "outputs": [],
   "source": [
    "import pickle\n",
    "import pandas as pd\n",
    "from nltk.stem.porter import PorterStemmer\n",
    "import re\n",
    "from nltk.corpus import stopwords\n",
    "from newspaper import Article"
   ]
  },
  {
   "cell_type": "code",
   "execution_count": 117,
   "metadata": {},
   "outputs": [],
   "source": [
    "port_stem = PorterStemmer()"
   ]
  },
  {
   "cell_type": "code",
   "execution_count": 118,
   "metadata": {},
   "outputs": [],
   "source": [
    "with open('trained_model', 'rb') as file:\n",
    "    model_import = pickle.load(file)"
   ]
  },
  {
   "cell_type": "code",
   "execution_count": 119,
   "metadata": {},
   "outputs": [],
   "source": [
    "with open('Vectorizer', 'rb') as file:\n",
    "    CV_data = pickle.load(file)"
   ]
  },
  {
   "cell_type": "code",
   "execution_count": 120,
   "metadata": {},
   "outputs": [],
   "source": [
    "def stemming(content):\n",
    "    stemmed = re.sub('[^a-zA-Z]',' ', content)\n",
    "    stemmed = stemmed.lower()\n",
    "    stemmed = stemmed.split()\n",
    "    stemmed = [port_stem.stem(word) for word in stemmed if not word in stopwords.words('english')]\n",
    "    stemmed = ' '.join(stemmed)\n",
    "    return stemmed\n"
   ]
  },
  {
   "cell_type": "code",
   "execution_count": 121,
   "metadata": {},
   "outputs": [],
   "source": [
    "def output_label(n):\n",
    "    if n == 0:\n",
    "        return \"This news is unreliable.\"\n",
    "    elif n == 1:\n",
    "        return \"This news is reliable.\""
   ]
  },
  {
   "cell_type": "code",
   "execution_count": 122,
   "metadata": {},
   "outputs": [],
   "source": [
    "def manual_testing(news):\n",
    "    testing_news = {\"text\":[news]}\n",
    "    new_def_test = pd.DataFrame(testing_news)\n",
    "    new_def_test[\"text\"] = new_def_test[\"text\"].apply(stemming) \n",
    "    new_x_test = new_def_test[\"text\"]\n",
    "    new_xv_test = CV_data.transform(new_x_test)\n",
    "    pred_LR = model_import.predict(new_xv_test)\n",
    "    \n",
    "    return print((output_label(pred_LR[0])))\n"
   ]
  },
  {
   "cell_type": "code",
   "execution_count": 123,
   "metadata": {},
   "outputs": [],
   "source": [
    "url = str(input())\n",
    "article = Article(url)\n",
    "article.download()\n",
    "article.parse()"
   ]
  },
  {
   "cell_type": "code",
   "execution_count": 124,
   "metadata": {},
   "outputs": [],
   "source": [
    "title = article.title\n",
    "body = article.text\n",
    "\n",
    "content = (title) + ' ' + (body)"
   ]
  },
  {
   "cell_type": "code",
   "execution_count": 125,
   "metadata": {},
   "outputs": [
    {
     "name": "stdout",
     "output_type": "stream",
     "text": [
      "This news is unreliable.\n"
     ]
    }
   ],
   "source": [
    "manual_testing(content)"
   ]
  }
 ],
 "metadata": {
  "interpreter": {
   "hash": "c48635bdcb893bcc1a3b1b1274f08ce11fbf5eb21a79c638d26bc97218f8ad5e"
  },
  "kernelspec": {
   "display_name": "Python 3.10.4 64-bit",
   "language": "python",
   "name": "python3"
  },
  "language_info": {
   "codemirror_mode": {
    "name": "ipython",
    "version": 3
   },
   "file_extension": ".py",
   "mimetype": "text/x-python",
   "name": "python",
   "nbconvert_exporter": "python",
   "pygments_lexer": "ipython3",
   "version": "3.10.4"
  },
  "orig_nbformat": 4
 },
 "nbformat": 4,
 "nbformat_minor": 2
}
